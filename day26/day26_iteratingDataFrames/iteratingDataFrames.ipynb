{
 "cells": [
  {
   "cell_type": "code",
   "execution_count": 1,
   "outputs": [
    {
     "name": "stdout",
     "output_type": "stream",
     "text": [
      "Kauã\n",
      "Jorge\n",
      "Ariel\n",
      "Guilherme\n"
     ]
    }
   ],
   "source": [
    "import pandas as pd\n",
    "st_dict = {\n",
    "    \"students\": [\"Kauã\", \"Jorge\", \"Ariel\", \"Guilherme\"],\n",
    "    \"scores\": [79, 56, 82, 77]\n",
    "}\n",
    "\n",
    "st_dataframe = pd.DataFrame(st_dict)\n",
    "\n",
    "for (index, value) in st_dataframe.iterrows():\n",
    "    print(value.students)"
   ],
   "metadata": {
    "collapsed": false,
    "pycharm": {
     "name": "#%%\n"
    }
   }
  },
  {
   "cell_type": "code",
   "execution_count": 2,
   "outputs": [
    {
     "name": "stdout",
     "output_type": "stream",
     "text": [
      "0         Kauã\n",
      "1        Jorge\n",
      "2        Ariel\n",
      "3    Guilherme\n",
      "Name: students, dtype: object\n"
     ]
    }
   ],
   "source": [
    "import pandas as pd\n",
    "st_dict = {\n",
    "    \"students\": [\"Kauã\", \"Jorge\", \"Ariel\", \"Guilherme\"],\n",
    "    \"scores\": [79, 56, 82, 77]\n",
    "}\n",
    "\n",
    "st_dataframe = pd.DataFrame(st_dict)\n",
    "print(st_dataframe[\"students\"])"
   ],
   "metadata": {
    "collapsed": false,
    "pycharm": {
     "name": "#%%\n"
    }
   }
  },
  {
   "cell_type": "code",
   "execution_count": null,
   "outputs": [],
   "source": [],
   "metadata": {
    "collapsed": false,
    "pycharm": {
     "name": "#%%\n"
    }
   }
  }
 ],
 "metadata": {
  "kernelspec": {
   "display_name": "Python 3",
   "language": "python",
   "name": "python3"
  },
  "language_info": {
   "codemirror_mode": {
    "name": "ipython",
    "version": 2
   },
   "file_extension": ".py",
   "mimetype": "text/x-python",
   "name": "python",
   "nbconvert_exporter": "python",
   "pygments_lexer": "ipython2",
   "version": "2.7.6"
  }
 },
 "nbformat": 4,
 "nbformat_minor": 0
}
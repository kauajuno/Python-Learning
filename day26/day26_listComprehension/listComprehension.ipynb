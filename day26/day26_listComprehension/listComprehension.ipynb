{
 "cells": [
  {
   "cell_type": "code",
   "execution_count": 1,
   "outputs": [
    {
     "name": "stdout",
     "output_type": "stream",
     "text": [
      "[4, 5, 6]\n"
     ]
    }
   ],
   "source": [
    "numbers = [1, 2, 3]\n",
    "new_numbers = [number + 3 for number in numbers]\n",
    "print(new_numbers)"
   ],
   "metadata": {
    "collapsed": false,
    "pycharm": {
     "name": "#%%\n"
    }
   }
  },
  {
   "cell_type": "code",
   "execution_count": 2,
   "outputs": [
    {
     "name": "stdout",
     "output_type": "stream",
     "text": [
      "['e', 't', 'e', 'r', 'm', 'e', 'n', 't', 'a', 'l', 'e', 's']\n"
     ]
    }
   ],
   "source": [
    "letters = [letter for letter in \"etermentales\"]\n",
    "print(letters)"
   ],
   "metadata": {
    "collapsed": false,
    "pycharm": {
     "name": "#%%\n"
    }
   }
  },
  {
   "cell_type": "code",
   "execution_count": 3,
   "outputs": [
    {
     "name": "stdout",
     "output_type": "stream",
     "text": [
      "['Kauã', 'João']\n"
     ]
    }
   ],
   "source": [
    "names = [\"Kauã\", \"Gabriel\", \"João\", \"Júnior\", \"Elena\", \"Francyne\", \"Joana\"]\n",
    "short_names = [name for name in names if len(name) < 5]\n",
    "print(short_names)"
   ],
   "metadata": {
    "collapsed": false,
    "pycharm": {
     "name": "#%%\n"
    }
   }
  },
  {
   "cell_type": "code",
   "execution_count": 5,
   "outputs": [
    {
     "name": "stdout",
     "output_type": "stream",
     "text": [
      "['GABRIEL', 'JÚNIOR', 'ELENA', 'FRANCYNE', 'JOANA']\n"
     ]
    }
   ],
   "source": [
    "names = [\"Kauã\", \"Gabriel\", \"João\", \"Júnior\", \"Elena\", \"Francyne\", \"Joana\"]\n",
    "long_names_uppercase = [name.upper() for name in names if len(name) > 4]\n",
    "print(long_names_uppercase)"
   ],
   "metadata": {
    "collapsed": false,
    "pycharm": {
     "name": "#%%\n"
    }
   }
  },
  {
   "cell_type": "code",
   "execution_count": 6,
   "outputs": [
    {
     "name": "stdout",
     "output_type": "stream",
     "text": [
      "[1, 1, 4, 9, 25, 64, 169, 441]\n"
     ]
    }
   ],
   "source": [
    "fibonacci = [1, 1, 2, 3, 5, 8, 13, 21]\n",
    "square_fibonacci = [num ** 2 for num in fibonacci]\n",
    "print(square_fibonacci)"
   ],
   "metadata": {
    "collapsed": false,
    "pycharm": {
     "name": "#%%\n"
    }
   }
  },
  {
   "cell_type": "code",
   "execution_count": 7,
   "outputs": [
    {
     "name": "stdout",
     "output_type": "stream",
     "text": [
      "SIZE: 50, LIST: [334, 265, 463, 107, 28, 359, 497, 170, 327, 170, 4, 491, 219, 263, 423, 306, 249, 325, 151, 482, 100, 376, 10, 112, 445, 20, 23, 143, 426, 288, 414, 463, 494, 437, 392, 89, 450, 286, 355, 273, 290, 312, 316, 149, 37, 168, 247, 482, 364, 285]\n",
      "SIZE: 25 LIST: [334, 28, 170, 170, 4, 306, 482, 100, 376, 10, 112, 20, 426, 288, 414, 494, 392, 450, 286, 290, 312, 316, 168, 482, 364]\n"
     ]
    }
   ],
   "source": [
    "from random import randint\n",
    "random_numbers = [randint(1, 500) for i in range(50)]\n",
    "even_random_numbers = [number for number in random_numbers if number % 2 == 0]\n",
    "print(f\"SIZE: {len(random_numbers)}, LIST: {random_numbers}\")\n",
    "print(f\"SIZE: {len(even_random_numbers)} LIST: {even_random_numbers}\")"
   ],
   "metadata": {
    "collapsed": false,
    "pycharm": {
     "name": "#%%\n"
    }
   }
  },
  {
   "cell_type": "code",
   "execution_count": null,
   "outputs": [],
   "source": [],
   "metadata": {
    "collapsed": false,
    "pycharm": {
     "name": "#%%\n"
    }
   }
  }
 ],
 "metadata": {
  "kernelspec": {
   "display_name": "Python 3",
   "language": "python",
   "name": "python3"
  },
  "language_info": {
   "codemirror_mode": {
    "name": "ipython",
    "version": 2
   },
   "file_extension": ".py",
   "mimetype": "text/x-python",
   "name": "python",
   "nbconvert_exporter": "python",
   "pygments_lexer": "ipython2",
   "version": "2.7.6"
  }
 },
 "nbformat": 4,
 "nbformat_minor": 0
}
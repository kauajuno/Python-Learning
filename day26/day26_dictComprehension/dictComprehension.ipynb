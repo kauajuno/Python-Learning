{
 "cells": [
  {
   "cell_type": "code",
   "execution_count": 1,
   "outputs": [
    {
     "name": "stdout",
     "output_type": "stream",
     "text": [
      "{'Kauã': None, 'Gabriel': None, 'João': None, 'Marcos': None, 'Felipe': None, 'Luiz': None, 'Fernanda': None, 'Maria': None}\n"
     ]
    }
   ],
   "source": [
    "names = [\"Kauã\", \"Gabriel\", \"João\", \"Marcos\", \"Felipe\", \"Luiz\", \"Fernanda\", \"Maria\"]\n",
    "student_scores = {student:None for student in names}\n",
    "print(student_scores)"
   ],
   "metadata": {
    "collapsed": false,
    "pycharm": {
     "name": "#%%\n"
    }
   }
  },
  {
   "cell_type": "code",
   "execution_count": 2,
   "outputs": [
    {
     "name": "stdout",
     "output_type": "stream",
     "text": [
      "{'Kauã': 74, 'Gabriel': 69, 'João': 94, 'Marcos': 52, 'Felipe': 99, 'Luiz': 54, 'Fernanda': 58, 'Maria': 67}\n",
      "{'Kauã': 74, 'João': 94, 'Felipe': 99}\n"
     ]
    }
   ],
   "source": [
    "from random import randint\n",
    "names = [\"Kauã\", \"Gabriel\", \"João\", \"Marcos\", \"Felipe\", \"Luiz\", \"Fernanda\", \"Maria\"]\n",
    "student_scores = {student:randint(50, 100) for student in names}\n",
    "passed_students = {student:score for (student, score) in student_scores.items() if score > 70}\n",
    "print(student_scores)\n",
    "print(passed_students)"
   ],
   "metadata": {
    "collapsed": false,
    "pycharm": {
     "name": "#%%\n"
    }
   }
  },
  {
   "cell_type": "code",
   "execution_count": null,
   "outputs": [],
   "source": [],
   "metadata": {
    "collapsed": false,
    "pycharm": {
     "name": "#%%\n"
    }
   }
  }
 ],
 "metadata": {
  "kernelspec": {
   "display_name": "Python 3",
   "language": "python",
   "name": "python3"
  },
  "language_info": {
   "codemirror_mode": {
    "name": "ipython",
    "version": 2
   },
   "file_extension": ".py",
   "mimetype": "text/x-python",
   "name": "python",
   "nbconvert_exporter": "python",
   "pygments_lexer": "ipython2",
   "version": "2.7.6"
  }
 },
 "nbformat": 4,
 "nbformat_minor": 0
}